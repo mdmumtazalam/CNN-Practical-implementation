{
  "nbformat": 4,
  "nbformat_minor": 0,
  "metadata": {
    "colab": {
      "provenance": []
    },
    "kernelspec": {
      "name": "python3",
      "display_name": "Python 3"
    },
    "language_info": {
      "name": "python"
    }
  },
  "cells": [
    {
      "cell_type": "code",
      "execution_count": 1,
      "metadata": {
        "id": "evray3Yw3yaN"
      },
      "outputs": [],
      "source": [
        "import matplotlib.pyplot as plt\n",
        "import matplotlib.image as mpimg # image related ops\n",
        "import numpy as np\n",
        "import cv2 # opencv lib"
      ]
    },
    {
      "cell_type": "code",
      "source": [
        "img_path=\"/content/car.jpeg\""
      ],
      "metadata": {
        "id": "qAedrcTq4GkU"
      },
      "execution_count": null,
      "outputs": []
    },
    {
      "cell_type": "code",
      "source": [
        "car1 = mpimg.imread(img_path)"
      ],
      "metadata": {
        "id": "e65EBSl34uqf"
      },
      "execution_count": null,
      "outputs": []
    },
    {
      "cell_type": "code",
      "source": [
        "car1.shape"
      ],
      "metadata": {
        "id": "hx8JHaRe4utp"
      },
      "execution_count": null,
      "outputs": []
    },
    {
      "cell_type": "code",
      "source": [
        "car1[167].shape"
      ],
      "metadata": {
        "id": "Dj88rYKJ4uv3"
      },
      "execution_count": null,
      "outputs": []
    },
    {
      "cell_type": "code",
      "source": [
        "plt.imshow(car1)"
      ],
      "metadata": {
        "id": "ACyrAjhC4uzF"
      },
      "execution_count": null,
      "outputs": []
    },
    {
      "cell_type": "code",
      "source": [
        "car1[0][0]"
      ],
      "metadata": {
        "id": "p7BDAw_a4u2m"
      },
      "execution_count": null,
      "outputs": []
    },
    {
      "cell_type": "code",
      "source": [
        "car1_cv2 = cv2.imread(img_path)"
      ],
      "metadata": {
        "id": "js7hzlyT43Fa"
      },
      "execution_count": null,
      "outputs": []
    },
    {
      "cell_type": "code",
      "source": [
        "car1_cv2"
      ],
      "metadata": {
        "id": "cjtX2J6x43H4"
      },
      "execution_count": null,
      "outputs": []
    },
    {
      "cell_type": "code",
      "source": [
        "from google.colab.patches import cv2_imshow\n",
        "cv2_imshow(car1_cv2)"
      ],
      "metadata": {
        "id": "yXCG2Qs-43Ko"
      },
      "execution_count": null,
      "outputs": []
    },
    {
      "cell_type": "code",
      "source": [
        "plt.imshow(car1_cv2) # cv2 reads images as BGR and in matplotlib reads as RGB"
      ],
      "metadata": {
        "id": "t0vBEmXk43Na"
      },
      "execution_count": null,
      "outputs": []
    },
    {
      "cell_type": "code",
      "source": [
        "car1_cv2_BGR_RGB = cv2.cvtColor(car1_cv2, cv2.COLOR_BGR2RGB)\n",
        "plt.imshow(car1_cv2_BGR_RGB)"
      ],
      "metadata": {
        "id": "6M6J8Pkk43Pz"
      },
      "execution_count": null,
      "outputs": []
    },
    {
      "cell_type": "code",
      "source": [
        "car1_cv2_BGR_RGB"
      ],
      "metadata": {
        "id": "90nHn6Hi43Sa"
      },
      "execution_count": null,
      "outputs": []
    },
    {
      "cell_type": "code",
      "source": [
        "car1_cv2_BGR_RGB.shape"
      ],
      "metadata": {
        "id": "GewdkMH05Kwa"
      },
      "execution_count": null,
      "outputs": []
    },
    {
      "cell_type": "code",
      "source": [
        "car1_cv2_BGR_GRAY = cv2.cvtColor(car1_cv2, cv2.COLOR_BGR2GRAY)\n",
        "plt.imshow(car1_cv2_BGR_GRAY, cmap=\"gray\""
      ],
      "metadata": {
        "id": "HR6NhSbA5KzN"
      },
      "execution_count": null,
      "outputs": []
    },
    {
      "cell_type": "code",
      "source": [
        "car1_cv2_BGR_GRAY"
      ],
      "metadata": {
        "id": "oONay8jK5K1b"
      },
      "execution_count": null,
      "outputs": []
    },
    {
      "cell_type": "code",
      "source": [
        "car1_cv2_BGR_GRAY.shape"
      ],
      "metadata": {
        "id": "oX-AmN0P5K4O"
      },
      "execution_count": null,
      "outputs": []
    },
    {
      "cell_type": "code",
      "source": [
        "car1_cv2_BGR_GRAY.min(), car1_cv2_BGR_GRAY.max()"
      ],
      "metadata": {
        "id": "Cwki5TfU5K6x"
      },
      "execution_count": null,
      "outputs": []
    },
    {
      "cell_type": "code",
      "source": [
        "cv2.split(car1_cv2)"
      ],
      "metadata": {
        "id": "aZ8abmI65K93"
      },
      "execution_count": null,
      "outputs": []
    },
    {
      "cell_type": "code",
      "source": [],
      "metadata": {
        "id": "bC37Kube5LA_"
      },
      "execution_count": null,
      "outputs": []
    },
    {
      "cell_type": "markdown",
      "source": [
        "#understanding composition of colored images"
      ],
      "metadata": {
        "id": "eYdDKjJf5ebj"
      }
    },
    {
      "cell_type": "code",
      "source": [
        "def viusalize_RGB_channel(imgArray=None, figsize=(10,7)):\n",
        "  # splitting the RGB components\n",
        "  B, G, R = cv2.split(imgArray)\n",
        "\n",
        "  # create zero matrix of shape of image\n",
        "  Z = np.zeros(B.shape, dtype=B.dtype) # can use any channel\n",
        "\n",
        "  # init subplots\n",
        "  fig, ax = plt.subplots(2,2, figsize=figsize)\n",
        "\n",
        "  # plotting the actual image and RGB images\n",
        "  [axi.set_axis_off() for axi in ax.ravel()]\n",
        "\n",
        "  ax[0,0].set_title(\"Original Image\")\n",
        "  # ax[0,0].set_axis_off()\n",
        "  ax[0,0].imshow(cv2.merge((R,G,B)))\n",
        "\n",
        "  ax[0,1].set_title(\"Red Ch Image\")\n",
        "  ax[0,1].imshow(cv2.merge((R,Z,Z)))\n",
        "\n",
        "  ax[1,0].set_title(\"Green Ch Image\")\n",
        "  ax[1,0].imshow(cv2.merge((Z,G,Z)))\n",
        "\n",
        "  ax[1,1].set_title(\"Blue Ch Image\")\n",
        "  ax[1,1].imshow(cv2.merge((Z,Z,B)))\n"
      ],
      "metadata": {
        "id": "k5yOdnDg5LEM"
      },
      "execution_count": null,
      "outputs": []
    },
    {
      "cell_type": "code",
      "source": [
        "viusalize_RGB_channel(imgArray=car1_cv2)"
      ],
      "metadata": {
        "id": "Kdh0Z91U5mWH"
      },
      "execution_count": null,
      "outputs": []
    },
    {
      "cell_type": "code",
      "source": [
        "random_colored_img = np.random.randint(0, 255, (6,6,3))"
      ],
      "metadata": {
        "id": "vmqBEgAz5mYc"
      },
      "execution_count": null,
      "outputs": []
    },
    {
      "cell_type": "code",
      "source": [
        "random_colored_img"
      ],
      "metadata": {
        "id": "4huO2NEc5ma8"
      },
      "execution_count": null,
      "outputs": []
    },
    {
      "cell_type": "code",
      "source": [
        "viusalize_RGB_channel(imgArray=random_colored_img)"
      ],
      "metadata": {
        "id": "OpV0SO1A5mdU"
      },
      "execution_count": null,
      "outputs": []
    },
    {
      "cell_type": "markdown",
      "source": [
        "#understanding filters"
      ],
      "metadata": {
        "id": "PpWWRQuL51PF"
      }
    },
    {
      "cell_type": "code",
      "source": [
        "sobel = np.array([[ 1, 0,-1],\n",
        "                  [ 2, 0,-2],\n",
        "                  [ 1, 0,-1]])\n"
      ],
      "metadata": {
        "id": "LBDUPblW5miF"
      },
      "execution_count": null,
      "outputs": []
    },
    {
      "cell_type": "code",
      "source": [
        "print(\"highlighting Vertical edges:\\n\", sobel)"
      ],
      "metadata": {
        "id": "7ckWKgvI5mlL"
      },
      "execution_count": null,
      "outputs": []
    },
    {
      "cell_type": "code",
      "source": [
        "print(\"highlighting Horizontal edges:\\n\", sobel.T)"
      ],
      "metadata": {
        "id": "PYm5RDd355lW"
      },
      "execution_count": null,
      "outputs": []
    },
    {
      "cell_type": "code",
      "source": [
        "example1 = [\n",
        "    [0,0,0,0,255,255,255,255,0,0,0,0],\n",
        "    [0,0,0,0,255,255,255,255,0,0,0,0],\n",
        "    [0,0,0,0,255,255,255,255,0,0,0,0],\n",
        "    [0,0,0,0,255,255,255,255,0,0,0,0],\n",
        "    [0,0,0,0,255,255,255,255,255,255,255,255],\n",
        "    [0,0,0,0,255,255,255,255,255,255,255,255],\n",
        "    [0,0,0,0,255,255,255,255,255,255,255,255],\n",
        "    [0,0,0,0,255,255,255,255,255,255,255,255],\n",
        "    [0,0,0,0,255,255,255,255,0,0,0,0],\n",
        "    [0,0,0,0,255,255,255,255,0,0,0,0],\n",
        "    [0,0,0,0,255,255,255,255,0,0,0,0],\n",
        "    [0,0,0,0,255,255,255,255,0,0,0,0],\n",
        "            ]"
      ],
      "metadata": {
        "id": "yl-Ra_j755nq"
      },
      "execution_count": null,
      "outputs": []
    },
    {
      "cell_type": "code",
      "source": [
        "example1 = np.array(example1)"
      ],
      "metadata": {
        "id": "BxAIyZBS55qW"
      },
      "execution_count": null,
      "outputs": []
    },
    {
      "cell_type": "code",
      "source": [
        "example1"
      ],
      "metadata": {
        "id": "d-NWG_3n55s9"
      },
      "execution_count": null,
      "outputs": []
    },
    {
      "cell_type": "code",
      "source": [
        "plt.imshow(example1, cmap=\"gray\")"
      ],
      "metadata": {
        "id": "rjWNW5Dt55vo"
      },
      "execution_count": null,
      "outputs": []
    },
    {
      "cell_type": "code",
      "source": [
        "def simple_conv(imgFilter=None, picture=None):\n",
        "  # extract the shape of the image\n",
        "  p_row, p_col = picture.shape\n",
        "\n",
        "  k = imgFilter.shape[0] # k =3\n",
        "\n",
        "  temp = list()\n",
        "\n",
        "  stride = 1\n",
        "\n",
        "  # resulant image size\n",
        "  final_cols = (p_col - k)//stride + 1\n",
        "  final_rows = (p_row - k)//stride + 1\n",
        "\n",
        "  # take vertically down stride across row by row\n",
        "  for v_stride in range(final_rows):\n",
        "    # take horizontal right stride across col by col\n",
        "    for h_stride in range(final_cols):\n",
        "      target_area_of_pic = picture[v_stride: v_stride + k, h_stride: h_stride + k]\n",
        "      z = sum(sum(imgFilter * target_area_of_pic))\n",
        "      temp.append(z)\n",
        "  \n",
        "  resulant_image = np.array(temp).reshape(final_rows, final_cols)\n",
        "  return resulant_image"
      ],
      "metadata": {
        "id": "w9t6ExPn55xz"
      },
      "execution_count": null,
      "outputs": []
    },
    {
      "cell_type": "code",
      "source": [
        "k = 3\n",
        "v_stride = 0\n",
        "h_stride = 0 + 1 + 1\n",
        "target_area = example1[v_stride: v_stride + k, h_stride: h_stride + k]\n",
        "target_area"
      ],
      "metadata": {
        "id": "1ujl59wy550J"
      },
      "execution_count": null,
      "outputs": []
    },
    {
      "cell_type": "code",
      "source": [
        "result = simple_conv(imgFilter=sobel, picture=example1)"
      ],
      "metadata": {
        "id": "yy92n4Xv553p"
      },
      "execution_count": null,
      "outputs": []
    },
    {
      "cell_type": "code",
      "source": [
        "result"
      ],
      "metadata": {
        "id": "BCiV6Vtw5mo2"
      },
      "execution_count": null,
      "outputs": []
    },
    {
      "cell_type": "code",
      "source": [
        "plt.imshow(example1, cmap=\"gray\")"
      ],
      "metadata": {
        "id": "PcZHcJ-E5LO0"
      },
      "execution_count": null,
      "outputs": []
    },
    {
      "cell_type": "code",
      "source": [
        "plt.imshow(result, cmap=\"gray\")"
      ],
      "metadata": {
        "id": "mW5TQeiW6dQi"
      },
      "execution_count": null,
      "outputs": []
    },
    {
      "cell_type": "code",
      "source": [
        "result = simple_conv(imgFilter=sobel.T, picture=example1)\n",
        "plt.imshow(result, cmap=\"gray\")"
      ],
      "metadata": {
        "id": "iVX6b-zJ6dSv"
      },
      "execution_count": null,
      "outputs": []
    },
    {
      "cell_type": "code",
      "source": [
        "example2 = [\n",
        "    [0,0,0,0,255,255,255,255,0,0,0,0],\n",
        "    [0,0,0,0,255,255,255,255,0,0,0,0],\n",
        "    [0,0,0,0,255,255,255,255,0,0,0,0],\n",
        "    [0,0,0,0,255,255,255,255,0,0,0,0],\n",
        "    [0,0,0,0,255,255,255,255,0,0,0,0],\n",
        "    [0,0,0,0,255,255,255,255,0,0,0,0],\n",
        "    [0,0,0,0,255,255,255,255,0,0,0,0],\n",
        "    [0,0,0,0,255,255,255,255,0,0,0,0],\n",
        "    [0,0,0,0,255,255,255,255,0,0,0,0],\n",
        "    [0,0,0,0,255,255,255,255,0,0,0,0],\n",
        "    [0,0,0,0,255,255,255,255,0,0,0,0],\n",
        "    [0,0,0,0,255,255,255,255,0,0,0,0],\n",
        "            ]\n",
        "\n",
        "example2 = np.array(example2)\n",
        "plt.imshow(example2, cmap=\"gray\")"
      ],
      "metadata": {
        "id": "h6oeiAU46dX9"
      },
      "execution_count": null,
      "outputs": []
    },
    {
      "cell_type": "code",
      "source": [
        "result = simple_conv(imgFilter=sobel, picture=example2)\n",
        "plt.imshow(result, cmap=\"gray\")"
      ],
      "metadata": {
        "id": "Tlu0T_w46dai"
      },
      "execution_count": null,
      "outputs": []
    },
    {
      "cell_type": "code",
      "source": [
        "result = simple_conv(imgFilter=sobel.T, picture=example2)\n",
        "plt.imshow(result, cmap=\"gray\")"
      ],
      "metadata": {
        "id": "GtydLFe_6vDC"
      },
      "execution_count": null,
      "outputs": []
    },
    {
      "cell_type": "code",
      "source": [
        "example2_T = np.array(example2.T)\n",
        "plt.imshow(example2_T, cmap=\"gray\")"
      ],
      "metadata": {
        "id": "CzkyX00i6vF9"
      },
      "execution_count": null,
      "outputs": []
    },
    {
      "cell_type": "code",
      "source": [
        "result = simple_conv(imgFilter=sobel.T, picture=example2_T)\n",
        "plt.imshow(result, cmap=\"gray\")"
      ],
      "metadata": {
        "id": "ZqaPDph76vIz"
      },
      "execution_count": null,
      "outputs": []
    },
    {
      "cell_type": "code",
      "source": [
        "result = simple_conv(imgFilter=sobel, picture=example2_T)\n",
        "plt.imshow(result, cmap=\"gray\")"
      ],
      "metadata": {
        "id": "gnoSRAUa6vLz"
      },
      "execution_count": null,
      "outputs": []
    },
    {
      "cell_type": "code",
      "source": [
        "result = simple_conv(imgFilter=sobel, picture=car1_cv2_BGR_GRAY)\n",
        "plt.imshow(result, cmap=\"gray\")"
      ],
      "metadata": {
        "id": "eezVa6E26vPo"
      },
      "execution_count": null,
      "outputs": []
    },
    {
      "cell_type": "code",
      "source": [
        "result = simple_conv(imgFilter=sobel.T, picture=car1_cv2_BGR_GRAY)\n",
        "plt.imshow(result, cmap=\"gray\")"
      ],
      "metadata": {
        "id": "mcaVTiey6ddJ"
      },
      "execution_count": null,
      "outputs": []
    },
    {
      "cell_type": "code",
      "source": [
        "nothing = np.zeros(car1_cv2_BGR_GRAY.shape)\n",
        "plt.imshow(nothing, cmap=\"gray\")"
      ],
      "metadata": {
        "id": "DoLvOcfo6dfn"
      },
      "execution_count": null,
      "outputs": []
    },
    {
      "cell_type": "code",
      "source": [
        "result = simple_conv(imgFilter=sobel.T, picture=nothing)\n",
        "plt.imshow(result, cmap=\"gray\")"
      ],
      "metadata": {
        "id": "ag07Cjl68JXa"
      },
      "execution_count": null,
      "outputs": []
    },
    {
      "cell_type": "code",
      "source": [
        "result = simple_conv(imgFilter=sobel, picture=nothing)\n",
        "plt.imshow(result, cmap=\"gray\")"
      ],
      "metadata": {
        "id": "_S0uq2oM8JZz"
      },
      "execution_count": null,
      "outputs": []
    },
    {
      "cell_type": "code",
      "source": [
        "result = simple_conv(imgFilter=sobel, picture=car1_cv2_BGR_GRAY)\n",
        "plt.imshow(result, cmap=\"gray\")"
      ],
      "metadata": {
        "id": "6HEc7i4H8Jce"
      },
      "execution_count": null,
      "outputs": []
    },
    {
      "cell_type": "code",
      "source": [
        "random_f = np.random.randn(3,3)\n",
        "random_f"
      ],
      "metadata": {
        "id": "rtE5gJEv8JfX"
      },
      "execution_count": null,
      "outputs": []
    },
    {
      "cell_type": "code",
      "source": [
        "result = simple_conv(imgFilter=random_f, picture=car1_cv2_BGR_GRAY)\n",
        "plt.imshow(result, cmap=\"gray\")"
      ],
      "metadata": {
        "id": "0nxi_e_N8Jiv"
      },
      "execution_count": null,
      "outputs": []
    },
    {
      "cell_type": "code",
      "source": [
        "import tensorflow as tf\n",
        "import numpy as np\n",
        "import matplotlib.pyplot as plt\n",
        "import cv2"
      ],
      "metadata": {
        "id": "-aDL0vo26djs"
      },
      "execution_count": null,
      "outputs": []
    },
    {
      "cell_type": "code",
      "source": [
        "def read_img(path, grayscale=True):\n",
        "  img = cv2.imread(path)\n",
        "  if grayscale:\n",
        "    img = cv2.cvtColor(img, cv2.COLOR_BGR2GRAY)\n",
        "    plt.imshow(img,cmap=\"gray\")\n",
        "    return img\n",
        "  from google.colab.patches import cv2_imshow\n",
        "  cv2_imshow(img)\n",
        "  return img"
      ],
      "metadata": {
        "id": "O0sO7VEW6eRp"
      },
      "execution_count": null,
      "outputs": []
    },
    {
      "cell_type": "code",
      "source": [
        "#greyscale image\n",
        "car = read_img(img_path)"
      ],
      "metadata": {
        "id": "GJP8AL508cQ3"
      },
      "execution_count": null,
      "outputs": []
    },
    {
      "cell_type": "code",
      "source": [
        "#color image\n",
        "color_car = read_img(img_path, grayscale=False)"
      ],
      "metadata": {
        "id": "ybomexLe8cTb"
      },
      "execution_count": null,
      "outputs": []
    },
    {
      "cell_type": "code",
      "source": [
        "# (1,r,c,1)\n",
        "row,col = car.shape\n",
        "car = car.reshape(1,row,col,1) # grayscale\n",
        "# color_car = color_car.reshape(1,row,col,3) # colored\n",
        "car.shape"
      ],
      "metadata": {
        "id": "OEuxYlKy8cV3"
      },
      "execution_count": null,
      "outputs": []
    },
    {
      "cell_type": "code",
      "source": [
        "CONV_LAYER = [tf.keras.layers.Conv2D(filters=1, \n",
        "                                    kernel_size=(3,3), \n",
        "                                    strides=(1,1),\n",
        "                                    input_shape=car.shape[1:])]\n",
        "\n",
        "conv_model = tf.keras.Sequential(CONV_LAYER)\n",
        "conv_model.summary()"
      ],
      "metadata": {
        "id": "Gfk0DkQC8cYX"
      },
      "execution_count": null,
      "outputs": []
    },
    {
      "cell_type": "code",
      "source": [
        "out = conv_model.predict(car)"
      ],
      "metadata": {
        "id": "YBRlgXUH8cba"
      },
      "execution_count": null,
      "outputs": []
    },
    {
      "cell_type": "code",
      "source": [
        "out.shape"
      ],
      "metadata": {
        "id": "y9vnRazN8cfF"
      },
      "execution_count": null,
      "outputs": []
    },
    {
      "cell_type": "code",
      "source": [
        "row, col = out.shape[1:-1]"
      ],
      "metadata": {
        "id": "z6g5lk7B8cn8"
      },
      "execution_count": null,
      "outputs": []
    },
    {
      "cell_type": "code",
      "source": [
        "reshape_out = out.reshape(row, col)"
      ],
      "metadata": {
        "id": "YryFURYr6eU5"
      },
      "execution_count": null,
      "outputs": []
    },
    {
      "cell_type": "code",
      "source": [
        "plt.imshow(reshape_out, cmap=\"gray\")"
      ],
      "metadata": {
        "id": "wkSUXYVd82bm"
      },
      "execution_count": null,
      "outputs": []
    },
    {
      "cell_type": "code",
      "source": [
        "# (1,r,c,1)\n",
        "row,col,depth = color_car.shape\n",
        "# car = car.reshape(1,row,col,1) # grayscale\n",
        "color_car = color_car.reshape(1,row,col,depth) # colored\n",
        "color_car.shape"
      ],
      "metadata": {
        "id": "lonB6qnc82ev"
      },
      "execution_count": null,
      "outputs": []
    },
    {
      "cell_type": "code",
      "source": [
        "CONV_LAYER = [tf.keras.layers.Conv2D(filters=1, \n",
        "                                    kernel_size=(3,3), \n",
        "                                    strides=(1,1),\n",
        "                                    input_shape=color_car.shape[1:])]\n",
        "\n",
        "conv_model = tf.keras.Sequential(CONV_LAYER)\n",
        "conv_model.summary()"
      ],
      "metadata": {
        "id": "eksmYW_382hI"
      },
      "execution_count": null,
      "outputs": []
    },
    {
      "cell_type": "code",
      "source": [
        "out = conv_model.predict(color_car)"
      ],
      "metadata": {
        "id": "zNnok1v382jX"
      },
      "execution_count": null,
      "outputs": []
    },
    {
      "cell_type": "code",
      "source": [
        "out.shape"
      ],
      "metadata": {
        "id": "bEJQ0wBL9FbV"
      },
      "execution_count": null,
      "outputs": []
    },
    {
      "cell_type": "code",
      "source": [
        "row, col = out.shape[1:-1]\n",
        "reshape_out = out.reshape(row, col)"
      ],
      "metadata": {
        "id": "csil7Sxo9Fd-"
      },
      "execution_count": null,
      "outputs": []
    },
    {
      "cell_type": "code",
      "source": [
        "plt.imshow(reshape_out, cmap=\"gray\")"
      ],
      "metadata": {
        "id": "bs734w9j9Fg4"
      },
      "execution_count": null,
      "outputs": []
    },
    {
      "cell_type": "code",
      "source": [
        "def reshaping_in(img, grayscale=True):\n",
        "  if grayscale:\n",
        "    row,col = img.shape\n",
        "    img = img.reshape(1,row,col,1) # grayscale\n",
        "    return img\n",
        "  row,col,depth = img.shape\n",
        "  color_img = img.reshape(1,row,col,depth) # colored\n",
        "  return color_img\n",
        "\n",
        "def get_conv_model(filters=1, filter_size=(3,3), strides=(1,1), input_shape=None, padding=\"valid\"):\n",
        "  CONV_LAYER = [tf.keras.layers.Conv2D(filters=filters, \n",
        "                                      kernel_size=filter_size, \n",
        "                                      strides=(1,1),\n",
        "                                      input_shape=input_shape, \n",
        "                                      padding=padding)]\n",
        "\n",
        "  conv_model = tf.keras.Sequential(CONV_LAYER)\n",
        "  conv_model.summary()\n",
        "  return conv_model\n",
        "\n",
        "def apply_conv_model_and_visualize(img, conv_model):\n",
        "  try:\n",
        "    out = conv_model.predict(img)\n",
        "    print(out.shape)\n",
        "    row, col, depth = out.shape[1:]\n",
        "    reshape_out = out.reshape(row, col, depth)\n",
        "\n",
        "    for d in range(depth):\n",
        "      plt.imshow(reshape_out[:,:,d], cmap=\"gray\")\n",
        "      plt.show()\n",
        "\n",
        "  except Exception as e:\n",
        "    raise e"
      ],
      "metadata": {
        "id": "gDxDAH3U9FlG"
      },
      "execution_count": null,
      "outputs": []
    },
    {
      "cell_type": "code",
      "source": [
        "img = read_img(img_path, grayscale=False)\n",
        "input_img = reshaping_in(img, grayscale=False)\n",
        "model = get_conv_model(filters=1, filter_size=(3,3), strides=(1,1), input_shape=input_img.shape[1:])\n",
        "apply_conv_model_and_visualize(input_img, model)"
      ],
      "metadata": {
        "id": "pwN7mQE49FpN"
      },
      "execution_count": null,
      "outputs": []
    },
    {
      "cell_type": "code",
      "source": [
        "img = read_img(img_path, grayscale=False)\n",
        "input_img = reshaping_in(img, grayscale=False)\n",
        "model = get_conv_model(filters=10, filter_size=(3,3), strides=(1,1), input_shape=input_img.shape[1:])\n",
        "apply_conv_model_and_visualize(input_img, model)"
      ],
      "metadata": {
        "id": "IkAK6BXn9Frp"
      },
      "execution_count": null,
      "outputs": []
    },
    {
      "cell_type": "code",
      "source": [
        "img = read_img(img_path, grayscale=False)\n",
        "input_img = reshaping_in(img, grayscale=False)\n",
        "model = get_conv_model(filters=10, filter_size=(3,3), strides=(1,1), input_shape=input_img.shape[1:], padding=\"same\")\n",
        "apply_conv_model_and_visualize(input_img, model)"
      ],
      "metadata": {
        "id": "ZrujgL8H9FvC"
      },
      "execution_count": null,
      "outputs": []
    },
    {
      "cell_type": "code",
      "source": [
        "def max_pooling(img, pool_size=(2,2), strides=(2,2)):\n",
        "  reshaped_img = reshaping_in(img)\n",
        "  pooling_layer = tf.keras.layers.MaxPool2D(pool_size=pool_size, strides=strides)\n",
        "  result = pooling_layer(reshaped_img)\n",
        "  return result"
      ],
      "metadata": {
        "id": "XbtgEYdq82mS"
      },
      "execution_count": null,
      "outputs": []
    },
    {
      "cell_type": "code",
      "source": [
        "img = read_img(img_path)\n",
        "print(img.shape)\n",
        "result = max_pooling(img)\n",
        "print(result.shape)"
      ],
      "metadata": {
        "id": "4MSrTi8382ps"
      },
      "execution_count": null,
      "outputs": []
    },
    {
      "cell_type": "code",
      "source": [
        "def plot_pooling(result):\n",
        "  _, row, col, _ = result.shape\n",
        "  reshape = tf.reshape(result, (row, col))\n",
        "  plt.imshow(reshape, cmap=\"gray\")"
      ],
      "metadata": {
        "id": "5BQKlPjt82vh"
      },
      "execution_count": null,
      "outputs": []
    },
    {
      "cell_type": "code",
      "source": [
        "plot_pooling(result)"
      ],
      "metadata": {
        "id": "HnF6umy29qev"
      },
      "execution_count": null,
      "outputs": []
    },
    {
      "cell_type": "code",
      "source": [
        "_, row, col, _ = result.shape\n",
        "reshape = tf.reshape(result, (row, col))"
      ],
      "metadata": {
        "id": "VY5-vG349qhT"
      },
      "execution_count": null,
      "outputs": []
    },
    {
      "cell_type": "code",
      "source": [
        "result = max_pooling(reshape.numpy())\n",
        "print(result.shape)"
      ],
      "metadata": {
        "id": "UQoh5kZ19qj8"
      },
      "execution_count": null,
      "outputs": []
    },
    {
      "cell_type": "code",
      "source": [
        "plot_pooling(result)"
      ],
      "metadata": {
        "id": "6ay9B8559qmx"
      },
      "execution_count": null,
      "outputs": []
    },
    {
      "cell_type": "markdown",
      "source": [
        "#GlobalAvgPool2D"
      ],
      "metadata": {
        "id": "FTefn0ke98Oq"
      }
    },
    {
      "cell_type": "code",
      "source": [
        "def global_avg_pooling(img, grayscale):\n",
        "\n",
        "  reshaped_img = reshaping_in(img, grayscale)\n",
        "  pooling_layer = tf.keras.layers\n",
        "  \n",
        "  result = pooling_layer(reshaped_img)\n",
        "  return result"
      ],
      "metadata": {
        "id": "HWFAgngU9qpS"
      },
      "execution_count": null,
      "outputs": []
    },
    {
      "cell_type": "code",
      "source": [
        "img = read_img(img_path, grayscale=False)\n",
        "print(img.shape)\n",
        "result = global_avg_pooling(img, grayscale=False)\n",
        "print(result.shape)\n",
        "print(result)"
      ],
      "metadata": {
        "id": "VtD_3BDn9qr7"
      },
      "execution_count": null,
      "outputs": []
    },
    {
      "cell_type": "code",
      "source": [
        "def plot_pooling(result):\n",
        "  _, row, col, _ = result.shape\n",
        "  reshape = tf.reshape(result, (row, col))\n",
        "  plt.imshow(reshape, cmap=\"gray\")"
      ],
      "metadata": {
        "id": "CDK8BU24-BJx"
      },
      "execution_count": null,
      "outputs": []
    },
    {
      "cell_type": "code",
      "source": [
        "plot_pooling(result)"
      ],
      "metadata": {
        "id": "N6jpAFZA-BNu"
      },
      "execution_count": null,
      "outputs": []
    },
    {
      "cell_type": "code",
      "source": [
        "CONV_LAYER = [tf.keras.layers.Conv2D(filters=1, \n",
        "                                    kernel_size=(3,3), \n",
        "                                    strides=(1,1),\n",
        "                                    input_shape=color_car.shape[1:],\n",
        "                                    activation=\"relu\" ),\n",
        "              tf.keras.layers.MaxPool2D(pool_size=(2,2), strides=(2,2)),\n",
        "              tf.keras.layers.GlobalAveragePooling2D(),\n",
        "              tf.keras.layers.Dense(10,activation=\"relu\"),\n",
        "              tf.keras.layers.Dense(2,activation=\"softmax\")]\n",
        "\n",
        "conv_model = tf.keras.Sequential(CONV_LAYER)\n",
        "conv_model.summary()"
      ],
      "metadata": {
        "id": "0zekRQwH-BPd"
      },
      "execution_count": null,
      "outputs": []
    },
    {
      "cell_type": "code",
      "source": [
        "model.save(\"model.h5\")"
      ],
      "metadata": {
        "id": "AxlDzNZh-BRv"
      },
      "execution_count": null,
      "outputs": []
    },
    {
      "cell_type": "code",
      "source": [
        "a = np.zeros((2, 3, 4))"
      ],
      "metadata": {
        "id": "b9eMaqrO-BUe"
      },
      "execution_count": null,
      "outputs": []
    },
    {
      "cell_type": "code",
      "source": [
        "a"
      ],
      "metadata": {
        "id": "T6E9BT93-BX3"
      },
      "execution_count": null,
      "outputs": []
    },
    {
      "cell_type": "code",
      "source": [],
      "metadata": {
        "id": "350GRTYK9quR"
      },
      "execution_count": null,
      "outputs": []
    },
    {
      "cell_type": "code",
      "source": [],
      "metadata": {
        "id": "PDN2oYGL9qyN"
      },
      "execution_count": null,
      "outputs": []
    },
    {
      "cell_type": "code",
      "source": [],
      "metadata": {
        "id": "6MSSoixM43WM"
      },
      "execution_count": null,
      "outputs": []
    }
  ]
}